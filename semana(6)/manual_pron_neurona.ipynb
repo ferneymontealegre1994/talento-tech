{
  "nbformat": 4,
  "nbformat_minor": 0,
  "metadata": {
    "colab": {
      "provenance": []
    },
    "kernelspec": {
      "name": "python3",
      "display_name": "Python 3"
    },
    "language_info": {
      "name": "python"
    }
  },
  "cells": [
    {
      "cell_type": "code",
      "execution_count": 2,
      "metadata": {
        "colab": {
          "base_uri": "https://localhost:8080/"
        },
        "id": "ApVVAg0TXzjZ",
        "outputId": "b61f2cdb-d5c9-4367-f7fa-64cb78eb1093"
      },
      "outputs": [
        {
          "output_type": "stream",
          "name": "stdout",
          "text": [
            "Salida de la neurona: 0.7\n",
            "Salida de la neurona: 0.6681877721681662\n",
            "Salida de la neurona: 1.0\n"
          ]
        }
      ],
      "source": [
        "#  Función para calcular la salida de una neurona individual.\n",
        "\n",
        "\n",
        "#funcion lineal\n",
        "\n",
        "import numpy as np\n",
        "\n",
        "def neuron(x, w, b):\n",
        "  \"\"\"\n",
        "  Función para calcular la salida de una neurona individual.\n",
        "\n",
        "  Args:\n",
        "      x: Vector de entrada (1 x entrada).\n",
        "      w: Vector de pesos (1 x entrada).\n",
        "      b: Sesgo escalar.\n",
        "\n",
        "  Returns:\n",
        "      y: Salida de la neurona (escalar).\n",
        "  \"\"\"\n",
        "  z = np.dot(x, w) + b  # Combinación lineal de entrada y pesos\n",
        "  y = z #funcion lineal\n",
        "  return y\n",
        "\n",
        "# Ejemplo de uso\n",
        "w = np.array([0.5, -0.2])  # Vector de pesos\n",
        "b = 0.3  # Sesgo\n",
        "x = np.array([1.0, 0.5])  # Vector de entrada\n",
        "\n",
        "y = neuron(x, w, b)\n",
        "print(\"Salida de la neurona:\", y)\n",
        "\n",
        "# Función sigmoide\n",
        "\n",
        "def neuron(x, w, b):\n",
        "  \"\"\"\n",
        "  Función para calcular la salida de una neurona individual.\n",
        "\n",
        "  Args:\n",
        "      x: Vector de entrada (1 x entrada).\n",
        "      w: Vector de pesos (1 x entrada).\n",
        "      b: Sesgo escalar.\n",
        "\n",
        "  Returns:\n",
        "      y: Salida de la neurona (escalar).\n",
        "  \"\"\"\n",
        "  z = np.dot(x, w) + b  # Combinación lineal de entrada y pesos\n",
        "  y = 1 / (1 + np.exp(-z))  # Función sigmoide\n",
        "  return y\n",
        "\n",
        "# Ejemplo de uso\n",
        "w = np.array([0.5, -0.2])  # Vector de pesos\n",
        "b = 0.3  # Sesgo\n",
        "x = np.array([1.0, 0.5])  # Vector de entrada\n",
        "\n",
        "y = neuron(x, w, b)\n",
        "print(\"Salida de la neurona:\", y)\n",
        "\n",
        "# Función sofmax\n",
        "\n",
        "def neuron(x, w, b):\n",
        "  \"\"\"\n",
        "  Función para calcular la salida de una neurona individual.\n",
        "\n",
        "  Args:\n",
        "      x: Vector de entrada (1 x entrada).\n",
        "      w: Vector de pesos (1 x entrada).\n",
        "      b: Sesgo escalar.\n",
        "\n",
        "  Returns:\n",
        "      y: Salida de la neurona (escalar).\n",
        "  \"\"\"\n",
        "  z = np.dot(x, w) + b  # Combinación lineal de entrada y pesos\n",
        "  y = np.exp(z)/np.sum(np.exp(z)) # Función sofmax\n",
        "  return y\n",
        "\n",
        "# Ejemplo de uso\n",
        "w = np.array([0.5, -0.2])  # Vector de pesos\n",
        "b = 0.3  # Sesgo\n",
        "x = np.array([1.0, 0.5])  # Vector de entrada\n",
        "\n",
        "y = neuron(x, w, b)\n",
        "print(\"Salida de la neurona:\", y)\n"
      ]
    },
    {
      "cell_type": "markdown",
      "source": [
        "Ejemplo académico:\n",
        "Definiendo funciones en python para calcular:\n",
        "\n",
        "W x + b = Z --> relu ---> y"
      ],
      "metadata": {
        "id": "aijQwY-vdAMf"
      }
    },
    {
      "cell_type": "code",
      "source": [
        "def get_output_from_MLP_input(W,x,b,activation=\"linear\"):\n",
        "  #print(\"W = \",end='\\n')\n",
        "  #print(W)\n",
        "  print(f\"W = \\n {W} \\n\")\n",
        "  #print()\n",
        "\n",
        "  print(\"x = \",end='\\n')\n",
        "  print(x)\n",
        "  print(\"b = \",end='\\n')\n",
        "  print(b)\n",
        "  # arguments:\n",
        "  # W,x and b are arrays\n",
        "\n",
        "  # operations\n",
        "  # Z = W x  +  b\n",
        "  #Z = np.matmul(W,x) + b\n",
        "  Z = np.dot(W,x) + b\n",
        "\n",
        "  print(\"Z = \",end='\\n')\n",
        "  print(Z)\n",
        "\n",
        "  if activation==\"linear\":\n",
        "    y = Z\n",
        "\n",
        "  if activation==\"relu\":\n",
        "    # Ternary operator to define a relu function\n",
        "    #y = Z if Z>=0 else 0\n",
        "    #y = Z if Z>0 else 0\n",
        "    #y = 0 if Z<0 else Z\n",
        "    #y = 0 if Z<=0 else Z\n",
        "    y = np.array([0 if z<=0 else z for z in Z])\n",
        "\n",
        "  if activation == \"sigmoide\":\n",
        "      y = 1 / (1 + np.exp(-Z))\n",
        "\n",
        "  if activation == \"tanh\":\n",
        "    y = (np.exp(Z) - np.exp(-Z)) / (np.exp(Z) + np.exp(-Z))\n",
        "\n",
        "  if activation == \"sofmax\":\n",
        "     y = np.exp(z) / np.sum(np.exp(z))\n",
        "\n",
        "\n",
        "\n",
        "\n",
        "\n",
        "  print(\"y = \",end='\\n')\n",
        "  print(y)\n",
        "\n",
        "  return y"
      ],
      "metadata": {
        "id": "qIOqWSjEc6bT"
      },
      "execution_count": null,
      "outputs": []
    },
    {
      "cell_type": "code",
      "source": [
        "# Testing (linear)\n",
        "\n",
        "W = np.array([ [1,-1,1]  , [1,1,0] ,  [0,1,1] ,  [1,0,1]    ])\n",
        "x = np.array([2, 1, 3])\n",
        "b = np.array([-5, 0, 1, -2])\n",
        "\n",
        "y = get_output_from_MLP_input(W,x,b,activation=\"linear\")\n",
        "y"
      ],
      "metadata": {
        "colab": {
          "base_uri": "https://localhost:8080/"
        },
        "id": "Jn-sBdcYdCyV",
        "outputId": "8ad82520-0b98-4c96-a128-07fbfe36603e"
      },
      "execution_count": null,
      "outputs": [
        {
          "output_type": "stream",
          "name": "stdout",
          "text": [
            "W = \n",
            " [[ 1 -1  1]\n",
            " [ 1  1  0]\n",
            " [ 0  1  1]\n",
            " [ 1  0  1]] \n",
            "\n",
            "x = \n",
            "[2 1 3]\n",
            "b = \n",
            "[-5  0  1 -2]\n",
            "Z = \n",
            "[-1  3  5  3]\n",
            "y = \n",
            "[-1  3  5  3]\n"
          ]
        },
        {
          "output_type": "execute_result",
          "data": {
            "text/plain": [
              "array([-1,  3,  5,  3])"
            ]
          },
          "metadata": {},
          "execution_count": 16
        }
      ]
    },
    {
      "cell_type": "code",
      "source": [
        "# Testing (relu)\n",
        "\n",
        "W = np.array([ [1,-1,1]  , [1,1,0] ,  [0,1,1] ,  [1,0,1]    ])\n",
        "x = np.array([2, 1, 3])\n",
        "b = np.array([-5, 0, 1, -2])\n",
        "\n",
        "y = get_output_from_MLP_input(W,x,b,\"relu\")\n",
        "y"
      ],
      "metadata": {
        "colab": {
          "base_uri": "https://localhost:8080/"
        },
        "id": "r3lDRDVWl9EP",
        "outputId": "5d954e93-9b87-4da8-a4ea-2a205e587ba0"
      },
      "execution_count": null,
      "outputs": [
        {
          "output_type": "stream",
          "name": "stdout",
          "text": [
            "W = \n",
            " [[ 1 -1  1]\n",
            " [ 1  1  0]\n",
            " [ 0  1  1]\n",
            " [ 1  0  1]] \n",
            "\n",
            "x = \n",
            "[2 1 3]\n",
            "b = \n",
            "[-5  0  1 -2]\n",
            "Z = \n",
            "[-1  3  5  3]\n",
            "y = \n",
            "[0 3 5 3]\n"
          ]
        },
        {
          "output_type": "execute_result",
          "data": {
            "text/plain": [
              "array([0, 3, 5, 3])"
            ]
          },
          "metadata": {},
          "execution_count": 17
        }
      ]
    },
    {
      "cell_type": "code",
      "source": [
        "# Testing (\"sigmoide\")\n",
        "\n",
        "W = np.array([ [1,-1,1]  , [1,1,0] ,  [0,1,1] ,  [1,0,1]    ])\n",
        "x = np.array([2, 1, 3])\n",
        "b = np.array([-5, 0, 1, -2])\n",
        "\n",
        "y = get_output_from_MLP_input(W,x,b,\"sigmoide\")\n",
        "y"
      ],
      "metadata": {
        "id": "wuZMcbuomFPa"
      },
      "execution_count": null,
      "outputs": []
    },
    {
      "cell_type": "code",
      "source": [
        "# Testing (\"tanh\")\n",
        "\n",
        "W = np.array([ [1,-1,1]  , [1,1,0] ,  [0,1,1] ,  [1,0,1]    ])\n",
        "x = np.array([2, 1, 3])\n",
        "b = np.array([-5, 0, 1, -2])\n",
        "\n",
        "y = get_output_from_MLP_input(W,x,b,\"tanh\")\n",
        "y"
      ],
      "metadata": {
        "colab": {
          "base_uri": "https://localhost:8080/"
        },
        "id": "DL0ygHbLmJhz",
        "outputId": "67f7862c-91a5-46ec-a24f-aee7c2f79a31"
      },
      "execution_count": null,
      "outputs": [
        {
          "output_type": "stream",
          "name": "stdout",
          "text": [
            "W = \n",
            " [[ 1 -1  1]\n",
            " [ 1  1  0]\n",
            " [ 0  1  1]\n",
            " [ 1  0  1]] \n",
            "\n",
            "x = \n",
            "[2 1 3]\n",
            "b = \n",
            "[-5  0  1 -2]\n",
            "Z = \n",
            "[-1  3  5  3]\n",
            "y = \n",
            "[-0.76159416  0.99505475  0.9999092   0.99505475]\n"
          ]
        },
        {
          "output_type": "execute_result",
          "data": {
            "text/plain": [
              "array([-0.76159416,  0.99505475,  0.9999092 ,  0.99505475])"
            ]
          },
          "metadata": {},
          "execution_count": 18
        }
      ]
    },
    {
      "cell_type": "code",
      "source": [
        "# Testing (\"sofmax\")\n",
        "z = np.dot(W, x) + b\n",
        "\n",
        "W = np.array([ [1,-1,1]  , [1,1,0] ,  [0,1,1] ,  [1,0,1]    ])\n",
        "x = np.array([2, 1, 3])\n",
        "b = np.array([-5, 0, 1, -2])\n",
        "\n",
        "y= get_output_from_MLP_input(W,x,b,\"sofmax\")\n",
        "y"
      ],
      "metadata": {
        "colab": {
          "base_uri": "https://localhost:8080/"
        },
        "id": "MxOEaHMjmOEk",
        "outputId": "69ec97df-89b9-473a-eec0-584258ea6e65"
      },
      "execution_count": null,
      "outputs": [
        {
          "output_type": "stream",
          "name": "stdout",
          "text": [
            "W = \n",
            " [[ 1 -1  1]\n",
            " [ 1  1  0]\n",
            " [ 0  1  1]\n",
            " [ 1  0  1]] \n",
            "\n",
            "x = \n",
            "[2 1 3]\n",
            "b = \n",
            "[-5  0  1 -2]\n",
            "Z = \n",
            "[-1  3  5  3]\n",
            "y = \n",
            "[0.00194695 0.10629962 0.78545382 0.10629962]\n"
          ]
        },
        {
          "output_type": "execute_result",
          "data": {
            "text/plain": [
              "array([0.00194695, 0.10629962, 0.78545382, 0.10629962])"
            ]
          },
          "metadata": {},
          "execution_count": 19
        }
      ]
    },
    {
      "cell_type": "code",
      "source": [
        "array = np.array([0.00194695, 0.10629962, 0.78545382, 0.10629962])\n",
        "\n",
        "# Sum the elements in the array\n",
        "total_sum = np.sum(array)\n",
        "\n",
        "print(\"Suma de los elementos:\", total_sum)"
      ],
      "metadata": {
        "colab": {
          "base_uri": "https://localhost:8080/"
        },
        "id": "iplciBNSmX5Y",
        "outputId": "5859ea19-930a-41d7-d0ea-12ac5735f37b"
      },
      "execution_count": null,
      "outputs": [
        {
          "output_type": "stream",
          "name": "stdout",
          "text": [
            "Suma de los elementos: 1.00000001\n"
          ]
        }
      ]
    }
  ]
}